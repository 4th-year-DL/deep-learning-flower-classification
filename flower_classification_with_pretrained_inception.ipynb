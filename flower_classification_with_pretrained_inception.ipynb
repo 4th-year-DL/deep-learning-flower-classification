{
 "cells": [
  {
   "cell_type": "markdown",
   "metadata": {
    "id": "yF35hhsLGfcw"
   },
   "source": [
    "Import tensorflow and other modules."
   ]
  },
  {
   "cell_type": "code",
   "execution_count": 1,
   "metadata": {
    "id": "Ll5AU2ClF38O"
   },
   "outputs": [
    {
     "ename": "ModuleNotFoundError",
     "evalue": "No module named 'tensorflow'",
     "output_type": "error",
     "traceback": [
      "\u001b[1;31m---------------------------------------------------------------------------\u001b[0m",
      "\u001b[1;31mModuleNotFoundError\u001b[0m                       Traceback (most recent call last)",
      "Cell \u001b[1;32mIn[1], line 1\u001b[0m\n\u001b[1;32m----> 1\u001b[0m \u001b[38;5;28;01mimport\u001b[39;00m \u001b[38;5;21;01mtensorflow\u001b[39;00m \u001b[38;5;28;01mas\u001b[39;00m \u001b[38;5;21;01mtf\u001b[39;00m\n\u001b[0;32m      2\u001b[0m \u001b[38;5;28;01mimport\u001b[39;00m \u001b[38;5;21;01mnumpy\u001b[39;00m \u001b[38;5;28;01mas\u001b[39;00m \u001b[38;5;21;01mnp\u001b[39;00m\n\u001b[0;32m      3\u001b[0m \u001b[38;5;28;01mimport\u001b[39;00m \u001b[38;5;21;01mmatplotlib\u001b[39;00m\u001b[38;5;21;01m.\u001b[39;00m\u001b[38;5;21;01mpyplot\u001b[39;00m \u001b[38;5;28;01mas\u001b[39;00m \u001b[38;5;21;01mplt\u001b[39;00m\n",
      "\u001b[1;31mModuleNotFoundError\u001b[0m: No module named 'tensorflow'"
     ]
    }
   ],
   "source": [
    "import tensorflow as tf\n",
    "import numpy as np\n",
    "import matplotlib.pyplot as plt\n",
    "import tensorflow_hub as hub\n",
    "import tensorflow_datasets as tfds\n",
    "from tensorflow.keras import layers\n",
    "from sklearn.metrics import classification_report,confusion_matrix\n",
    "import logging\n",
    "\n",
    "logger = tf.get_logger()\n",
    "logger.setLevel(logging.ERROR)"
   ]
  },
  {
   "cell_type": "markdown",
   "metadata": {
    "id": "hJNpHGBYGM9S"
   },
   "source": [
    "Download and seperate dataset into training and validation."
   ]
  },
  {
   "cell_type": "code",
   "execution_count": null,
   "metadata": {
    "id": "cAidwmZXGHqY"
   },
   "outputs": [],
   "source": [
    "(training_set, validation_set), dataset_info = tfds.load(\n",
    "    'tf_flowers',\n",
    "    with_info=True,\n",
    "    as_supervised=True,\n",
    "    split=['train[:70%]', 'train[70%:]'],\n",
    ")"
   ]
  },
  {
   "cell_type": "markdown",
   "metadata": {
    "id": "AFJWVYV7G0f4"
   },
   "source": [
    "Print information about dataset."
   ]
  },
  {
   "cell_type": "code",
   "execution_count": null,
   "metadata": {
    "id": "-WO2tG1mGteZ"
   },
   "outputs": [],
   "source": [
    "num_classes = dataset_info.features['label'].num_classes\n",
    "\n",
    "num_training_examples = 0\n",
    "num_validation_examples = 0\n",
    "\n",
    "for example in training_set:\n",
    "  num_training_examples += 1\n",
    "\n",
    "for example in validation_set:\n",
    "  num_validation_examples += 1\n",
    "\n",
    "print('Total Number of Classes: {}'.format(num_classes))\n",
    "print('Total Number of Training Images: {}'.format(num_training_examples))\n",
    "print('Total Number of Validation Images: {} \\n'.format(num_validation_examples))"
   ]
  },
  {
   "cell_type": "markdown",
   "metadata": {
    "id": "ocMS0wrMG9IA"
   },
   "source": [
    "Create new modle architecture using pretrained inception model."
   ]
  },
  {
   "cell_type": "code",
   "execution_count": null,
   "metadata": {
    "colab": {
     "background_save": true
    },
    "id": "p_BudNAiHYs6",
    "outputId": "d5d8a90b-6d71-4636-f784-f838db06b846"
   },
   "outputs": [
    {
     "name": "stdout",
     "output_type": "stream",
     "text": [
      "Model: \"sequential_1\"\n",
      "_________________________________________________________________\n",
      " Layer (type)                Output Shape              Param #   \n",
      "=================================================================\n",
      " keras_layer_1 (KerasLayer)  (None, 2048)              21802784  \n",
      "                                                                 \n",
      " dense_1 (Dense)             (None, 5)                 10245     \n",
      "                                                                 \n",
      "=================================================================\n",
      "Total params: 21813029 (83.21 MB)\n",
      "Trainable params: 10245 (40.02 KB)\n",
      "Non-trainable params: 21802784 (83.17 MB)\n",
      "_________________________________________________________________\n"
     ]
    }
   ],
   "source": [
    "IMAGE_RES = 299\n",
    "\n",
    "URL = \"https://tfhub.dev/google/tf2-preview/inception_v3/feature_vector/4\"\n",
    "\n",
    "feature_extractor = hub.KerasLayer(URL,\n",
    "  input_shape=(IMAGE_RES, IMAGE_RES, 3),\n",
    "  trainable=False)\n",
    "\n",
    "model_inception = tf.keras.Sequential([\n",
    "  feature_extractor,\n",
    "  tf.keras.layers.Dense(num_classes)\n",
    "])\n",
    "\n",
    "model_inception.summary()"
   ]
  },
  {
   "cell_type": "markdown",
   "metadata": {
    "id": "Gc1b96NXH6ov"
   },
   "source": [
    "Compile new model."
   ]
  },
  {
   "cell_type": "code",
   "execution_count": null,
   "metadata": {
    "colab": {
     "background_save": true
    },
    "id": "xrQWqeIBH_0Y"
   },
   "outputs": [],
   "source": [
    "model_inception.compile(\n",
    "  optimizer='adam',\n",
    "  loss=tf.keras.losses.SparseCategoricalCrossentropy(from_logits=True),\n",
    "  metrics=['accuracy'])"
   ]
  },
  {
   "cell_type": "markdown",
   "metadata": {
    "id": "UsWKQBdrIC1a"
   },
   "source": [
    "Train new model."
   ]
  },
  {
   "cell_type": "code",
   "execution_count": null,
   "metadata": {
    "colab": {
     "base_uri": "https://localhost:8080/"
    },
    "id": "hm3dexPYIFge",
    "outputId": "1090a7d6-d052-44db-d7b4-2417c60bc962"
   },
   "outputs": [
    {
     "name": "stdout",
     "output_type": "stream",
     "text": [
      "Epoch 1/6\n",
      "81/81 [==============================] - 21s 190ms/step - loss: 0.7554 - accuracy: 0.7209 - val_loss: 0.4528 - val_accuracy: 0.8610\n",
      "Epoch 2/6\n",
      "81/81 [==============================] - 14s 176ms/step - loss: 0.3836 - accuracy: 0.8801 - val_loss: 0.3581 - val_accuracy: 0.8874\n",
      "Epoch 3/6\n",
      "81/81 [==============================] - 13s 158ms/step - loss: 0.3032 - accuracy: 0.9093 - val_loss: 0.3322 - val_accuracy: 0.8928\n",
      "Epoch 4/6\n",
      "81/81 [==============================] - 14s 175ms/step - loss: 0.2554 - accuracy: 0.9260 - val_loss: 0.3040 - val_accuracy: 0.8955\n",
      "Epoch 5/6\n",
      "81/81 [==============================] - 13s 159ms/step - loss: 0.2238 - accuracy: 0.9358 - val_loss: 0.2880 - val_accuracy: 0.9001\n",
      "Epoch 6/6\n",
      "81/81 [==============================] - 13s 160ms/step - loss: 0.2011 - accuracy: 0.9404 - val_loss: 0.2782 - val_accuracy: 0.9028\n"
     ]
    }
   ],
   "source": [
    "EPOCHS = 6\n",
    "BATCH_SIZE = 32\n",
    "\n",
    "def format_image(image, label):\n",
    "  image = tf.image.resize(image, (IMAGE_RES, IMAGE_RES))/255.0\n",
    "  return image, label\n",
    "\n",
    "train_batches = training_set.shuffle(num_training_examples//4).map(format_image).batch(BATCH_SIZE).prefetch(1)\n",
    "validation_batches = validation_set.map(format_image).batch(BATCH_SIZE).prefetch(1)\n",
    "\n",
    "history = model_inception.fit(train_batches,\n",
    "                    epochs=EPOCHS,\n",
    "                    validation_data=validation_batches)"
   ]
  },
  {
   "cell_type": "markdown",
   "metadata": {
    "id": "V77ZlG-IIRTt"
   },
   "source": [
    "Plot training and validation garphs."
   ]
  },
  {
   "cell_type": "code",
   "execution_count": null,
   "metadata": {
    "colab": {
     "base_uri": "https://localhost:8080/",
     "height": 699
    },
    "id": "SyLB-iAkIURt",
    "outputId": "94a6b1a1-0554-4ba8-e9bc-84b12c4d6472"
   },
   "outputs": [
    {
     "data": {
      "image/png": "[encoded data removed]",
      "text/plain": [
       "<Figure size 800x800 with 2 Axes>"
      ]
     },
     "metadata": {},
     "output_type": "display_data"
    }
   ],
   "source": [
    "acc = history.history['accuracy']\n",
    "val_acc = history.history['val_accuracy']\n",
    "\n",
    "loss = history.history['loss']\n",
    "val_loss = history.history['val_loss']\n",
    "\n",
    "epochs_range = range(EPOCHS)\n",
    "\n",
    "plt.figure(figsize=(8, 8))\n",
    "plt.subplot(1, 2, 1)\n",
    "plt.plot(epochs_range, acc, label='Training Accuracy')\n",
    "plt.plot(epochs_range, val_acc, label='Validation Accuracy')\n",
    "plt.legend(loc='lower right')\n",
    "plt.title('Training and Validation Accuracy')\n",
    "\n",
    "plt.subplot(1, 2, 2)\n",
    "plt.plot(epochs_range, loss, label='Training Loss')\n",
    "plt.plot(epochs_range, val_loss, label='Validation Loss')\n",
    "plt.legend(loc='upper right')\n",
    "plt.title('Training and Validation Loss')\n",
    "plt.show()"
   ]
  },
  {
   "cell_type": "markdown",
   "metadata": {
    "id": "2ozVXrucb0GG"
   },
   "source": [
    "Generate classification report."
   ]
  },
  {
   "cell_type": "code",
   "execution_count": null,
   "metadata": {
    "colab": {
     "base_uri": "https://localhost:8080/"
    },
    "id": "Mghh8vLeP8yR",
    "outputId": "df389902-2068-409c-9375-7a7acd691065"
   },
   "outputs": [
    {
     "name": "stdout",
     "output_type": "stream",
     "text": [
      "35/35 [==============================] - 5s 114ms/step\n",
      "              precision    recall  f1-score   support\n",
      "\n",
      "           0       0.94      0.94      0.94       259\n",
      "           1       0.90      0.95      0.93       177\n",
      "           2       0.88      0.89      0.89       265\n",
      "           3       0.91      0.90      0.90       205\n",
      "           4       0.89      0.83      0.86       195\n",
      "\n",
      "    accuracy                           0.90      1101\n",
      "   macro avg       0.90      0.90      0.90      1101\n",
      "weighted avg       0.90      0.90      0.90      1101\n",
      "\n"
     ]
    }
   ],
   "source": [
    "X_train = list(map(lambda x: x[1], validation_set))\n",
    "\n",
    "preds = model_inception.predict(validation_batches,verbose=1)\n",
    "\n",
    "pred = np.array([np.argmax(i) for i in preds])\n",
    "pred[:5]\n",
    "\n",
    "actual = list(map(lambda x: x[1], validation_set))\n",
    "actual = np.array(actual)\n",
    "\n",
    "print(classification_report(pred,actual))"
   ]
  }
 ],
 "metadata": {
  "accelerator": "GPU",
  "colab": {
   "provenance": [],
   "toc_visible": true
  },
  "kernelspec": {
   "display_name": "Python 3 (ipykernel)",
   "language": "python",
   "name": "python3"
  },
  "language_info": {
   "codemirror_mode": {
    "name": "ipython",
    "version": 3
   },
   "file_extension": ".py",
   "mimetype": "text/x-python",
   "name": "python",
   "nbconvert_exporter": "python",
   "pygments_lexer": "ipython3",
   "version": "3.11.5"
  }
 },
 "nbformat": 4,
 "nbformat_minor": 1
}
